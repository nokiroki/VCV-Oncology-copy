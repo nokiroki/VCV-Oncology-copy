{
 "cells": [
  {
   "cell_type": "code",
   "execution_count": 11,
   "id": "2098da8d",
   "metadata": {},
   "outputs": [],
   "source": [
    "import os\n",
    "import shutil\n",
    "\n",
    "import pandas as pd\n",
    "import numpy as np\n",
    "from sklearn.model_selection import train_test_split\n",
    "from tqdm.notebook import tqdm"
   ]
  },
  {
   "cell_type": "code",
   "execution_count": 3,
   "id": "12da34d0",
   "metadata": {},
   "outputs": [],
   "source": [
    "train_val = np.array(os.listdir('data/dataset1/normal_train/'))"
   ]
  },
  {
   "cell_type": "code",
   "execution_count": 4,
   "id": "56e93b95",
   "metadata": {},
   "outputs": [
    {
     "data": {
      "text/plain": [
       "array(['ISIC_0015719.jpg', 'ISIC_0052212.jpg', 'ISIC_0068279.jpg', ...,\n",
       "       'ISIC_9999515.jpg', 'ISIC_9999666.jpg', 'ISIC_9999806.jpg'],\n",
       "      dtype='<U16')"
      ]
     },
     "execution_count": 4,
     "metadata": {},
     "output_type": "execute_result"
    }
   ],
   "source": [
    "train_val"
   ]
  },
  {
   "cell_type": "code",
   "execution_count": 6,
   "id": "2887d659",
   "metadata": {},
   "outputs": [],
   "source": [
    "train, val = train_test_split(train_val, train_size=.8, shuffle=True)"
   ]
  },
  {
   "cell_type": "code",
   "execution_count": 12,
   "id": "107b0ca8",
   "metadata": {},
   "outputs": [
    {
     "data": {
      "application/vnd.jupyter.widget-view+json": {
       "model_id": "da6690ddb1074738bde9a8dd6e9309a7",
       "version_major": 2,
       "version_minor": 0
      },
      "text/plain": [
       "  0%|          | 0/26033 [00:00<?, ?it/s]"
      ]
     },
     "metadata": {},
     "output_type": "display_data"
    },
    {
     "data": {
      "application/vnd.jupyter.widget-view+json": {
       "model_id": "2e60bc163bbd445393af8f36cc42c084",
       "version_major": 2,
       "version_minor": 0
      },
      "text/plain": [
       "  0%|          | 0/6509 [00:00<?, ?it/s]"
      ]
     },
     "metadata": {},
     "output_type": "display_data"
    }
   ],
   "source": [
    "for t in tqdm(train):\n",
    "    shutil.copyfile(f'data/dataset1/normal_train/{t}', f'data/dataset1/normal_train1/{t}')\n",
    "    \n",
    "for t in tqdm(val):\n",
    "    shutil.copyfile(f'data/dataset1/normal_train/{t}', f'data/dataset1/normal_val/{t}')"
   ]
  },
  {
   "cell_type": "code",
   "execution_count": null,
   "id": "47a2756f",
   "metadata": {},
   "outputs": [],
   "source": []
  }
 ],
 "metadata": {
  "kernelspec": {
   "display_name": "Python 3 (ipykernel)",
   "language": "python",
   "name": "python3"
  },
  "language_info": {
   "codemirror_mode": {
    "name": "ipython",
    "version": 3
   },
   "file_extension": ".py",
   "mimetype": "text/x-python",
   "name": "python",
   "nbconvert_exporter": "python",
   "pygments_lexer": "ipython3",
   "version": "3.8.12"
  }
 },
 "nbformat": 4,
 "nbformat_minor": 5
}
